{
 "cells": [
  {
   "cell_type": "code",
   "execution_count": 16,
   "id": "a3bd9c7d-aad7-4c72-84c0-91c023cd0c16",
   "metadata": {},
   "outputs": [
    {
     "name": "stdout",
     "output_type": "stream",
     "text": [
      "Requirement already satisfied: missingno in c:\\users\\user\\anaconda3\\lib\\site-packages (0.5.2)\n",
      "Requirement already satisfied: numpy in c:\\users\\user\\anaconda3\\lib\\site-packages (from missingno) (2.1.3)\n",
      "Requirement already satisfied: matplotlib in c:\\users\\user\\anaconda3\\lib\\site-packages (from missingno) (3.10.0)\n",
      "Requirement already satisfied: scipy in c:\\users\\user\\anaconda3\\lib\\site-packages (from missingno) (1.15.3)\n",
      "Requirement already satisfied: seaborn in c:\\users\\user\\anaconda3\\lib\\site-packages (from missingno) (0.13.2)\n",
      "Requirement already satisfied: contourpy>=1.0.1 in c:\\users\\user\\anaconda3\\lib\\site-packages (from matplotlib->missingno) (1.3.1)\n",
      "Requirement already satisfied: cycler>=0.10 in c:\\users\\user\\anaconda3\\lib\\site-packages (from matplotlib->missingno) (0.11.0)\n",
      "Requirement already satisfied: fonttools>=4.22.0 in c:\\users\\user\\anaconda3\\lib\\site-packages (from matplotlib->missingno) (4.55.3)\n",
      "Requirement already satisfied: kiwisolver>=1.3.1 in c:\\users\\user\\anaconda3\\lib\\site-packages (from matplotlib->missingno) (1.4.8)\n",
      "Requirement already satisfied: packaging>=20.0 in c:\\users\\user\\anaconda3\\lib\\site-packages (from matplotlib->missingno) (24.2)\n",
      "Requirement already satisfied: pillow>=8 in c:\\users\\user\\anaconda3\\lib\\site-packages (from matplotlib->missingno) (11.1.0)\n",
      "Requirement already satisfied: pyparsing>=2.3.1 in c:\\users\\user\\anaconda3\\lib\\site-packages (from matplotlib->missingno) (3.2.0)\n",
      "Requirement already satisfied: python-dateutil>=2.7 in c:\\users\\user\\anaconda3\\lib\\site-packages (from matplotlib->missingno) (2.9.0.post0)\n",
      "Requirement already satisfied: six>=1.5 in c:\\users\\user\\anaconda3\\lib\\site-packages (from python-dateutil>=2.7->matplotlib->missingno) (1.17.0)\n",
      "Requirement already satisfied: pandas>=1.2 in c:\\users\\user\\anaconda3\\lib\\site-packages (from seaborn->missingno) (2.2.3)\n",
      "Requirement already satisfied: pytz>=2020.1 in c:\\users\\user\\anaconda3\\lib\\site-packages (from pandas>=1.2->seaborn->missingno) (2024.1)\n",
      "Requirement already satisfied: tzdata>=2022.7 in c:\\users\\user\\anaconda3\\lib\\site-packages (from pandas>=1.2->seaborn->missingno) (2025.2)\n",
      "query run successfully\n"
     ]
    }
   ],
   "source": [
    "#import neccessary library\n",
    "import pandas as pd \n",
    "import matplotlib.pyplot as plt \n",
    "import seaborn as sns\n",
    "import numpy as np \n",
    "import warnings\n",
    "\n",
    "warnings.filterwarnings(\"ignore\")\n",
    "\n",
    "%matplotlib inline\n",
    "\n",
    "#set theme \n",
    "sns.set(style='whitegrid')\n",
    "\n",
    "! Pip install missingno\n",
    "\n",
    "import missingno as mno\n",
    "\n",
    "print('query run successfully')"
   ]
  },
  {
   "cell_type": "code",
   "execution_count": 17,
   "id": "0fccd4fd-2e18-4c89-903d-f50240249d06",
   "metadata": {},
   "outputs": [],
   "source": [
    "#import Python_Project_Sales_Datasets\n",
    "url=r'C:\\Users\\user\\Downloads\\Python_Project_SalesData (1).xlsx'"
   ]
  },
  {
   "cell_type": "code",
   "execution_count": 18,
   "id": "19823385-c2dd-4fe5-81d2-1f6f27c0980b",
   "metadata": {},
   "outputs": [
    {
     "name": "stdout",
     "output_type": "stream",
     "text": [
      "data successfully imported\n"
     ]
    }
   ],
   "source": [
    "# Python_Project_Datasets as 'ppd'\n",
    "ppd=pd.read_excel(url)\n",
    "\n",
    "print('data successfully imported')"
   ]
  },
  {
   "cell_type": "code",
   "execution_count": 19,
   "id": "7e14202f-18dd-457f-b330-14acc786f6b6",
   "metadata": {},
   "outputs": [
    {
     "data": {
      "text/html": [
       "<div>\n",
       "<style scoped>\n",
       "    .dataframe tbody tr th:only-of-type {\n",
       "        vertical-align: middle;\n",
       "    }\n",
       "\n",
       "    .dataframe tbody tr th {\n",
       "        vertical-align: top;\n",
       "    }\n",
       "\n",
       "    .dataframe thead th {\n",
       "        text-align: right;\n",
       "    }\n",
       "</style>\n",
       "<table border=\"1\" class=\"dataframe\">\n",
       "  <thead>\n",
       "    <tr style=\"text-align: right;\">\n",
       "      <th></th>\n",
       "      <th>Unnamed: 0</th>\n",
       "      <th>Unnamed: 1</th>\n",
       "      <th>Unnamed: 2</th>\n",
       "      <th>Unnamed: 3</th>\n",
       "      <th>Unnamed: 4</th>\n",
       "      <th>Unnamed: 5</th>\n",
       "      <th>Unnamed: 6</th>\n",
       "      <th>Unnamed: 7</th>\n",
       "      <th>Unnamed: 8</th>\n",
       "      <th>Unnamed: 9</th>\n",
       "    </tr>\n",
       "  </thead>\n",
       "  <tbody>\n",
       "    <tr>\n",
       "      <th>0</th>\n",
       "      <td>x</td>\n",
       "      <td>Order ID</td>\n",
       "      <td>Date</td>\n",
       "      <td>Product</td>\n",
       "      <td>Price</td>\n",
       "      <td>Quantity</td>\n",
       "      <td>Purchase Type</td>\n",
       "      <td>Payment Method</td>\n",
       "      <td>Manager</td>\n",
       "      <td>City</td>\n",
       "    </tr>\n",
       "    <tr>\n",
       "      <th>1</th>\n",
       "      <td>NaN</td>\n",
       "      <td>10452</td>\n",
       "      <td>2022-11-07 00:00:00</td>\n",
       "      <td>Fries</td>\n",
       "      <td>3.49</td>\n",
       "      <td>573.065903</td>\n",
       "      <td>Online</td>\n",
       "      <td>Gift Card</td>\n",
       "      <td>Tom      Jackson</td>\n",
       "      <td>London</td>\n",
       "    </tr>\n",
       "    <tr>\n",
       "      <th>2</th>\n",
       "      <td>NaN</td>\n",
       "      <td>10453</td>\n",
       "      <td>2022-11-07 00:00:00</td>\n",
       "      <td>Beverages</td>\n",
       "      <td>2.95</td>\n",
       "      <td>745.762712</td>\n",
       "      <td>Online</td>\n",
       "      <td>Gift Card</td>\n",
       "      <td>Pablo Perez</td>\n",
       "      <td>Madrid</td>\n",
       "    </tr>\n",
       "    <tr>\n",
       "      <th>3</th>\n",
       "      <td>NaN</td>\n",
       "      <td>10454</td>\n",
       "      <td>2022-11-07 00:00:00</td>\n",
       "      <td>Sides &amp; Other</td>\n",
       "      <td>4.99</td>\n",
       "      <td>200.400802</td>\n",
       "      <td>In-store</td>\n",
       "      <td>Gift Card</td>\n",
       "      <td>Joao    Silva</td>\n",
       "      <td>Lisbon</td>\n",
       "    </tr>\n",
       "    <tr>\n",
       "      <th>4</th>\n",
       "      <td>NaN</td>\n",
       "      <td>10455</td>\n",
       "      <td>2022-11-08 00:00:00</td>\n",
       "      <td>Burgers</td>\n",
       "      <td>12.99</td>\n",
       "      <td>569.668976</td>\n",
       "      <td>In-store</td>\n",
       "      <td>Credit Card</td>\n",
       "      <td>Walter Muller</td>\n",
       "      <td>Berlin</td>\n",
       "    </tr>\n",
       "    <tr>\n",
       "      <th>...</th>\n",
       "      <td>...</td>\n",
       "      <td>...</td>\n",
       "      <td>...</td>\n",
       "      <td>...</td>\n",
       "      <td>...</td>\n",
       "      <td>...</td>\n",
       "      <td>...</td>\n",
       "      <td>...</td>\n",
       "      <td>...</td>\n",
       "      <td>...</td>\n",
       "    </tr>\n",
       "    <tr>\n",
       "      <th>250</th>\n",
       "      <td>NaN</td>\n",
       "      <td>10709</td>\n",
       "      <td>2022-12-28 00:00:00</td>\n",
       "      <td>Sides &amp; Other</td>\n",
       "      <td>4.99</td>\n",
       "      <td>200.400802</td>\n",
       "      <td>Drive-thru</td>\n",
       "      <td>Gift Card</td>\n",
       "      <td>Walter Muller</td>\n",
       "      <td>Berlin</td>\n",
       "    </tr>\n",
       "    <tr>\n",
       "      <th>251</th>\n",
       "      <td>NaN</td>\n",
       "      <td>10710</td>\n",
       "      <td>2022-12-29 00:00:00</td>\n",
       "      <td>Burgers</td>\n",
       "      <td>12.99</td>\n",
       "      <td>754.426482</td>\n",
       "      <td>Drive-thru</td>\n",
       "      <td>Gift Card</td>\n",
       "      <td>Walter Muller</td>\n",
       "      <td>Berlin</td>\n",
       "    </tr>\n",
       "    <tr>\n",
       "      <th>252</th>\n",
       "      <td>NaN</td>\n",
       "      <td>10711</td>\n",
       "      <td>2022-12-29 00:00:00</td>\n",
       "      <td>Chicken Sandwiches</td>\n",
       "      <td>9.95</td>\n",
       "      <td>281.407035</td>\n",
       "      <td>Drive-thru</td>\n",
       "      <td>Gift Card</td>\n",
       "      <td>Walter Muller</td>\n",
       "      <td>Berlin</td>\n",
       "    </tr>\n",
       "    <tr>\n",
       "      <th>253</th>\n",
       "      <td>NaN</td>\n",
       "      <td>10712</td>\n",
       "      <td>2022-12-29 00:00:00</td>\n",
       "      <td>Fries</td>\n",
       "      <td>3.49</td>\n",
       "      <td>630.372493</td>\n",
       "      <td>Drive-thru</td>\n",
       "      <td>Gift Card</td>\n",
       "      <td>Walter Muller</td>\n",
       "      <td>Berlin</td>\n",
       "    </tr>\n",
       "    <tr>\n",
       "      <th>254</th>\n",
       "      <td>NaN</td>\n",
       "      <td>10713</td>\n",
       "      <td>2022-12-29 00:00:00</td>\n",
       "      <td>Beverages</td>\n",
       "      <td>2.95</td>\n",
       "      <td>677.966102</td>\n",
       "      <td>Drive-thru</td>\n",
       "      <td>Gift Card</td>\n",
       "      <td>Walter Muller</td>\n",
       "      <td>Berlin</td>\n",
       "    </tr>\n",
       "  </tbody>\n",
       "</table>\n",
       "<p>255 rows × 10 columns</p>\n",
       "</div>"
      ],
      "text/plain": [
       "    Unnamed: 0 Unnamed: 1           Unnamed: 2          Unnamed: 3 Unnamed: 4  \\\n",
       "0            x   Order ID                 Date             Product      Price   \n",
       "1          NaN      10452  2022-11-07 00:00:00               Fries       3.49   \n",
       "2          NaN      10453  2022-11-07 00:00:00           Beverages       2.95   \n",
       "3          NaN      10454  2022-11-07 00:00:00       Sides & Other       4.99   \n",
       "4          NaN      10455  2022-11-08 00:00:00             Burgers      12.99   \n",
       "..         ...        ...                  ...                 ...        ...   \n",
       "250        NaN      10709  2022-12-28 00:00:00       Sides & Other       4.99   \n",
       "251        NaN      10710  2022-12-29 00:00:00             Burgers      12.99   \n",
       "252        NaN      10711  2022-12-29 00:00:00  Chicken Sandwiches       9.95   \n",
       "253        NaN      10712  2022-12-29 00:00:00               Fries       3.49   \n",
       "254        NaN      10713  2022-12-29 00:00:00           Beverages       2.95   \n",
       "\n",
       "     Unnamed: 5     Unnamed: 6      Unnamed: 7          Unnamed: 8 Unnamed: 9  \n",
       "0      Quantity  Purchase Type  Payment Method             Manager       City  \n",
       "1    573.065903        Online        Gift Card    Tom      Jackson     London  \n",
       "2    745.762712        Online        Gift Card         Pablo Perez     Madrid  \n",
       "3    200.400802      In-store        Gift Card       Joao    Silva     Lisbon  \n",
       "4    569.668976      In-store      Credit Card       Walter Muller     Berlin  \n",
       "..          ...            ...             ...                 ...        ...  \n",
       "250  200.400802    Drive-thru        Gift Card       Walter Muller     Berlin  \n",
       "251  754.426482    Drive-thru        Gift Card       Walter Muller     Berlin  \n",
       "252  281.407035    Drive-thru        Gift Card       Walter Muller     Berlin  \n",
       "253  630.372493    Drive-thru        Gift Card       Walter Muller     Berlin  \n",
       "254  677.966102    Drive-thru        Gift Card       Walter Muller     Berlin  \n",
       "\n",
       "[255 rows x 10 columns]"
      ]
     },
     "execution_count": 19,
     "metadata": {},
     "output_type": "execute_result"
    }
   ],
   "source": [
    "ppd"
   ]
  },
  {
   "cell_type": "code",
   "execution_count": 20,
   "id": "94e66fab-d9f9-4bae-930c-1c59af1dbc1c",
   "metadata": {},
   "outputs": [
    {
     "name": "stdout",
     "output_type": "stream",
     "text": [
      "Header replaced successfully\n"
     ]
    }
   ],
   "source": [
    "#so i want the second row to be the header and drop the first row 'unnamed' \n",
    "#Take row 0 as header\n",
    "ppd.columns = ppd.iloc[0]\n",
    "\n",
    "#Drop that row from the data\n",
    "ppd = ppd.drop(index=0).reset_index(drop=True)\n",
    "\n",
    "print(\"Header replaced successfully\")\n",
    "\n"
   ]
  },
  {
   "cell_type": "code",
   "execution_count": 21,
   "id": "47115d9b-8f40-4ab6-aecc-922004ddb2ab",
   "metadata": {},
   "outputs": [
    {
     "data": {
      "text/html": [
       "<div>\n",
       "<style scoped>\n",
       "    .dataframe tbody tr th:only-of-type {\n",
       "        vertical-align: middle;\n",
       "    }\n",
       "\n",
       "    .dataframe tbody tr th {\n",
       "        vertical-align: top;\n",
       "    }\n",
       "\n",
       "    .dataframe thead th {\n",
       "        text-align: right;\n",
       "    }\n",
       "</style>\n",
       "<table border=\"1\" class=\"dataframe\">\n",
       "  <thead>\n",
       "    <tr style=\"text-align: right;\">\n",
       "      <th></th>\n",
       "      <th>x</th>\n",
       "      <th>Order ID</th>\n",
       "      <th>Date</th>\n",
       "      <th>Product</th>\n",
       "      <th>Price</th>\n",
       "      <th>Quantity</th>\n",
       "      <th>Purchase Type</th>\n",
       "      <th>Payment Method</th>\n",
       "      <th>Manager</th>\n",
       "      <th>City</th>\n",
       "    </tr>\n",
       "  </thead>\n",
       "  <tbody>\n",
       "    <tr>\n",
       "      <th>0</th>\n",
       "      <td>NaN</td>\n",
       "      <td>10452</td>\n",
       "      <td>2022-11-07 00:00:00</td>\n",
       "      <td>Fries</td>\n",
       "      <td>3.49</td>\n",
       "      <td>573.065903</td>\n",
       "      <td>Online</td>\n",
       "      <td>Gift Card</td>\n",
       "      <td>Tom      Jackson</td>\n",
       "      <td>London</td>\n",
       "    </tr>\n",
       "    <tr>\n",
       "      <th>1</th>\n",
       "      <td>NaN</td>\n",
       "      <td>10453</td>\n",
       "      <td>2022-11-07 00:00:00</td>\n",
       "      <td>Beverages</td>\n",
       "      <td>2.95</td>\n",
       "      <td>745.762712</td>\n",
       "      <td>Online</td>\n",
       "      <td>Gift Card</td>\n",
       "      <td>Pablo Perez</td>\n",
       "      <td>Madrid</td>\n",
       "    </tr>\n",
       "    <tr>\n",
       "      <th>2</th>\n",
       "      <td>NaN</td>\n",
       "      <td>10454</td>\n",
       "      <td>2022-11-07 00:00:00</td>\n",
       "      <td>Sides &amp; Other</td>\n",
       "      <td>4.99</td>\n",
       "      <td>200.400802</td>\n",
       "      <td>In-store</td>\n",
       "      <td>Gift Card</td>\n",
       "      <td>Joao    Silva</td>\n",
       "      <td>Lisbon</td>\n",
       "    </tr>\n",
       "    <tr>\n",
       "      <th>3</th>\n",
       "      <td>NaN</td>\n",
       "      <td>10455</td>\n",
       "      <td>2022-11-08 00:00:00</td>\n",
       "      <td>Burgers</td>\n",
       "      <td>12.99</td>\n",
       "      <td>569.668976</td>\n",
       "      <td>In-store</td>\n",
       "      <td>Credit Card</td>\n",
       "      <td>Walter Muller</td>\n",
       "      <td>Berlin</td>\n",
       "    </tr>\n",
       "    <tr>\n",
       "      <th>4</th>\n",
       "      <td>NaN</td>\n",
       "      <td>10456</td>\n",
       "      <td>2022-11-08 00:00:00</td>\n",
       "      <td>Chicken Sandwiches</td>\n",
       "      <td>9.95</td>\n",
       "      <td>201.005025</td>\n",
       "      <td>In-store</td>\n",
       "      <td>Credit Card</td>\n",
       "      <td>Walter Muller</td>\n",
       "      <td>Berlin</td>\n",
       "    </tr>\n",
       "    <tr>\n",
       "      <th>...</th>\n",
       "      <td>...</td>\n",
       "      <td>...</td>\n",
       "      <td>...</td>\n",
       "      <td>...</td>\n",
       "      <td>...</td>\n",
       "      <td>...</td>\n",
       "      <td>...</td>\n",
       "      <td>...</td>\n",
       "      <td>...</td>\n",
       "      <td>...</td>\n",
       "    </tr>\n",
       "    <tr>\n",
       "      <th>249</th>\n",
       "      <td>NaN</td>\n",
       "      <td>10709</td>\n",
       "      <td>2022-12-28 00:00:00</td>\n",
       "      <td>Sides &amp; Other</td>\n",
       "      <td>4.99</td>\n",
       "      <td>200.400802</td>\n",
       "      <td>Drive-thru</td>\n",
       "      <td>Gift Card</td>\n",
       "      <td>Walter Muller</td>\n",
       "      <td>Berlin</td>\n",
       "    </tr>\n",
       "    <tr>\n",
       "      <th>250</th>\n",
       "      <td>NaN</td>\n",
       "      <td>10710</td>\n",
       "      <td>2022-12-29 00:00:00</td>\n",
       "      <td>Burgers</td>\n",
       "      <td>12.99</td>\n",
       "      <td>754.426482</td>\n",
       "      <td>Drive-thru</td>\n",
       "      <td>Gift Card</td>\n",
       "      <td>Walter Muller</td>\n",
       "      <td>Berlin</td>\n",
       "    </tr>\n",
       "    <tr>\n",
       "      <th>251</th>\n",
       "      <td>NaN</td>\n",
       "      <td>10711</td>\n",
       "      <td>2022-12-29 00:00:00</td>\n",
       "      <td>Chicken Sandwiches</td>\n",
       "      <td>9.95</td>\n",
       "      <td>281.407035</td>\n",
       "      <td>Drive-thru</td>\n",
       "      <td>Gift Card</td>\n",
       "      <td>Walter Muller</td>\n",
       "      <td>Berlin</td>\n",
       "    </tr>\n",
       "    <tr>\n",
       "      <th>252</th>\n",
       "      <td>NaN</td>\n",
       "      <td>10712</td>\n",
       "      <td>2022-12-29 00:00:00</td>\n",
       "      <td>Fries</td>\n",
       "      <td>3.49</td>\n",
       "      <td>630.372493</td>\n",
       "      <td>Drive-thru</td>\n",
       "      <td>Gift Card</td>\n",
       "      <td>Walter Muller</td>\n",
       "      <td>Berlin</td>\n",
       "    </tr>\n",
       "    <tr>\n",
       "      <th>253</th>\n",
       "      <td>NaN</td>\n",
       "      <td>10713</td>\n",
       "      <td>2022-12-29 00:00:00</td>\n",
       "      <td>Beverages</td>\n",
       "      <td>2.95</td>\n",
       "      <td>677.966102</td>\n",
       "      <td>Drive-thru</td>\n",
       "      <td>Gift Card</td>\n",
       "      <td>Walter Muller</td>\n",
       "      <td>Berlin</td>\n",
       "    </tr>\n",
       "  </tbody>\n",
       "</table>\n",
       "<p>254 rows × 10 columns</p>\n",
       "</div>"
      ],
      "text/plain": [
       "0      x Order ID                 Date             Product  Price    Quantity  \\\n",
       "0    NaN    10452  2022-11-07 00:00:00               Fries   3.49  573.065903   \n",
       "1    NaN    10453  2022-11-07 00:00:00           Beverages   2.95  745.762712   \n",
       "2    NaN    10454  2022-11-07 00:00:00       Sides & Other   4.99  200.400802   \n",
       "3    NaN    10455  2022-11-08 00:00:00             Burgers  12.99  569.668976   \n",
       "4    NaN    10456  2022-11-08 00:00:00  Chicken Sandwiches   9.95  201.005025   \n",
       "..   ...      ...                  ...                 ...    ...         ...   \n",
       "249  NaN    10709  2022-12-28 00:00:00       Sides & Other   4.99  200.400802   \n",
       "250  NaN    10710  2022-12-29 00:00:00             Burgers  12.99  754.426482   \n",
       "251  NaN    10711  2022-12-29 00:00:00  Chicken Sandwiches   9.95  281.407035   \n",
       "252  NaN    10712  2022-12-29 00:00:00               Fries   3.49  630.372493   \n",
       "253  NaN    10713  2022-12-29 00:00:00           Beverages   2.95  677.966102   \n",
       "\n",
       "0   Purchase Type Payment Method             Manager    City  \n",
       "0         Online       Gift Card    Tom      Jackson  London  \n",
       "1         Online       Gift Card         Pablo Perez  Madrid  \n",
       "2       In-store       Gift Card       Joao    Silva  Lisbon  \n",
       "3       In-store     Credit Card       Walter Muller  Berlin  \n",
       "4       In-store     Credit Card       Walter Muller  Berlin  \n",
       "..            ...            ...                 ...     ...  \n",
       "249   Drive-thru       Gift Card       Walter Muller  Berlin  \n",
       "250   Drive-thru       Gift Card       Walter Muller  Berlin  \n",
       "251   Drive-thru       Gift Card       Walter Muller  Berlin  \n",
       "252   Drive-thru       Gift Card       Walter Muller  Berlin  \n",
       "253   Drive-thru       Gift Card       Walter Muller  Berlin  \n",
       "\n",
       "[254 rows x 10 columns]"
      ]
     },
     "execution_count": 21,
     "metadata": {},
     "output_type": "execute_result"
    }
   ],
   "source": [
    "ppd"
   ]
  },
  {
   "cell_type": "code",
   "execution_count": 22,
   "id": "aaf68af3-8e1d-4588-b3fc-b37fa6f95bd3",
   "metadata": {},
   "outputs": [
    {
     "data": {
      "text/plain": [
       "0\n",
       " x                 True\n",
       "Order ID          False\n",
       "Date              False\n",
       "Product           False\n",
       "Price             False\n",
       "Quantity          False\n",
       "Purchase Type     False\n",
       "Payment Method    False\n",
       "Manager           False\n",
       "City              False\n",
       "dtype: bool"
      ]
     },
     "execution_count": 22,
     "metadata": {},
     "output_type": "execute_result"
    }
   ],
   "source": [
    "#checking for missing values\n",
    "ppd.isna().any()"
   ]
  },
  {
   "cell_type": "code",
   "execution_count": 23,
   "id": "783f1bc9-bf28-4652-8fba-875e732fc213",
   "metadata": {},
   "outputs": [
    {
     "data": {
      "text/html": [
       "<div>\n",
       "<style scoped>\n",
       "    .dataframe tbody tr th:only-of-type {\n",
       "        vertical-align: middle;\n",
       "    }\n",
       "\n",
       "    .dataframe tbody tr th {\n",
       "        vertical-align: top;\n",
       "    }\n",
       "\n",
       "    .dataframe thead th {\n",
       "        text-align: right;\n",
       "    }\n",
       "</style>\n",
       "<table border=\"1\" class=\"dataframe\">\n",
       "  <thead>\n",
       "    <tr style=\"text-align: right;\">\n",
       "      <th></th>\n",
       "      <th>x</th>\n",
       "      <th>Order ID</th>\n",
       "      <th>Date</th>\n",
       "      <th>Product</th>\n",
       "      <th>Price</th>\n",
       "      <th>Quantity</th>\n",
       "      <th>Purchase Type</th>\n",
       "      <th>Payment Method</th>\n",
       "      <th>Manager</th>\n",
       "      <th>City</th>\n",
       "    </tr>\n",
       "  </thead>\n",
       "  <tbody>\n",
       "    <tr>\n",
       "      <th>0</th>\n",
       "      <td>True</td>\n",
       "      <td>False</td>\n",
       "      <td>False</td>\n",
       "      <td>False</td>\n",
       "      <td>False</td>\n",
       "      <td>False</td>\n",
       "      <td>False</td>\n",
       "      <td>False</td>\n",
       "      <td>False</td>\n",
       "      <td>False</td>\n",
       "    </tr>\n",
       "    <tr>\n",
       "      <th>1</th>\n",
       "      <td>True</td>\n",
       "      <td>False</td>\n",
       "      <td>False</td>\n",
       "      <td>False</td>\n",
       "      <td>False</td>\n",
       "      <td>False</td>\n",
       "      <td>False</td>\n",
       "      <td>False</td>\n",
       "      <td>False</td>\n",
       "      <td>False</td>\n",
       "    </tr>\n",
       "    <tr>\n",
       "      <th>2</th>\n",
       "      <td>True</td>\n",
       "      <td>False</td>\n",
       "      <td>False</td>\n",
       "      <td>False</td>\n",
       "      <td>False</td>\n",
       "      <td>False</td>\n",
       "      <td>False</td>\n",
       "      <td>False</td>\n",
       "      <td>False</td>\n",
       "      <td>False</td>\n",
       "    </tr>\n",
       "    <tr>\n",
       "      <th>3</th>\n",
       "      <td>True</td>\n",
       "      <td>False</td>\n",
       "      <td>False</td>\n",
       "      <td>False</td>\n",
       "      <td>False</td>\n",
       "      <td>False</td>\n",
       "      <td>False</td>\n",
       "      <td>False</td>\n",
       "      <td>False</td>\n",
       "      <td>False</td>\n",
       "    </tr>\n",
       "    <tr>\n",
       "      <th>4</th>\n",
       "      <td>True</td>\n",
       "      <td>False</td>\n",
       "      <td>False</td>\n",
       "      <td>False</td>\n",
       "      <td>False</td>\n",
       "      <td>False</td>\n",
       "      <td>False</td>\n",
       "      <td>False</td>\n",
       "      <td>False</td>\n",
       "      <td>False</td>\n",
       "    </tr>\n",
       "    <tr>\n",
       "      <th>...</th>\n",
       "      <td>...</td>\n",
       "      <td>...</td>\n",
       "      <td>...</td>\n",
       "      <td>...</td>\n",
       "      <td>...</td>\n",
       "      <td>...</td>\n",
       "      <td>...</td>\n",
       "      <td>...</td>\n",
       "      <td>...</td>\n",
       "      <td>...</td>\n",
       "    </tr>\n",
       "    <tr>\n",
       "      <th>249</th>\n",
       "      <td>True</td>\n",
       "      <td>False</td>\n",
       "      <td>False</td>\n",
       "      <td>False</td>\n",
       "      <td>False</td>\n",
       "      <td>False</td>\n",
       "      <td>False</td>\n",
       "      <td>False</td>\n",
       "      <td>False</td>\n",
       "      <td>False</td>\n",
       "    </tr>\n",
       "    <tr>\n",
       "      <th>250</th>\n",
       "      <td>True</td>\n",
       "      <td>False</td>\n",
       "      <td>False</td>\n",
       "      <td>False</td>\n",
       "      <td>False</td>\n",
       "      <td>False</td>\n",
       "      <td>False</td>\n",
       "      <td>False</td>\n",
       "      <td>False</td>\n",
       "      <td>False</td>\n",
       "    </tr>\n",
       "    <tr>\n",
       "      <th>251</th>\n",
       "      <td>True</td>\n",
       "      <td>False</td>\n",
       "      <td>False</td>\n",
       "      <td>False</td>\n",
       "      <td>False</td>\n",
       "      <td>False</td>\n",
       "      <td>False</td>\n",
       "      <td>False</td>\n",
       "      <td>False</td>\n",
       "      <td>False</td>\n",
       "    </tr>\n",
       "    <tr>\n",
       "      <th>252</th>\n",
       "      <td>True</td>\n",
       "      <td>False</td>\n",
       "      <td>False</td>\n",
       "      <td>False</td>\n",
       "      <td>False</td>\n",
       "      <td>False</td>\n",
       "      <td>False</td>\n",
       "      <td>False</td>\n",
       "      <td>False</td>\n",
       "      <td>False</td>\n",
       "    </tr>\n",
       "    <tr>\n",
       "      <th>253</th>\n",
       "      <td>True</td>\n",
       "      <td>False</td>\n",
       "      <td>False</td>\n",
       "      <td>False</td>\n",
       "      <td>False</td>\n",
       "      <td>False</td>\n",
       "      <td>False</td>\n",
       "      <td>False</td>\n",
       "      <td>False</td>\n",
       "      <td>False</td>\n",
       "    </tr>\n",
       "  </tbody>\n",
       "</table>\n",
       "<p>254 rows × 10 columns</p>\n",
       "</div>"
      ],
      "text/plain": [
       "0       x  Order ID   Date  Product  Price  Quantity  Purchase Type  \\\n",
       "0    True     False  False    False  False     False          False   \n",
       "1    True     False  False    False  False     False          False   \n",
       "2    True     False  False    False  False     False          False   \n",
       "3    True     False  False    False  False     False          False   \n",
       "4    True     False  False    False  False     False          False   \n",
       "..    ...       ...    ...      ...    ...       ...            ...   \n",
       "249  True     False  False    False  False     False          False   \n",
       "250  True     False  False    False  False     False          False   \n",
       "251  True     False  False    False  False     False          False   \n",
       "252  True     False  False    False  False     False          False   \n",
       "253  True     False  False    False  False     False          False   \n",
       "\n",
       "0    Payment Method  Manager   City  \n",
       "0             False    False  False  \n",
       "1             False    False  False  \n",
       "2             False    False  False  \n",
       "3             False    False  False  \n",
       "4             False    False  False  \n",
       "..              ...      ...    ...  \n",
       "249           False    False  False  \n",
       "250           False    False  False  \n",
       "251           False    False  False  \n",
       "252           False    False  False  \n",
       "253           False    False  False  \n",
       "\n",
       "[254 rows x 10 columns]"
      ]
     },
     "execution_count": 23,
     "metadata": {},
     "output_type": "execute_result"
    }
   ],
   "source": [
    "#since there is missing values in column 1, i want to call the whole table \n",
    "ppd.isna()"
   ]
  },
  {
   "cell_type": "code",
   "execution_count": 24,
   "id": "87a8c1c1-e807-459d-a2a5-011cd2807541",
   "metadata": {},
   "outputs": [],
   "source": [
    "#since column 1 (x) isn't useful in the data, i will remove the entire column \n",
    "ppd=ppd[['Order ID',\t'Date',\t'Product',\t'Price',\t'Quantity',\t'Purchase Type',\t'Payment Method',\t'Manager',\t'City']]"
   ]
  },
  {
   "cell_type": "code",
   "execution_count": 25,
   "id": "db7ae151-defc-4a7d-a472-2ef8d2792f57",
   "metadata": {},
   "outputs": [
    {
     "data": {
      "text/html": [
       "<div>\n",
       "<style scoped>\n",
       "    .dataframe tbody tr th:only-of-type {\n",
       "        vertical-align: middle;\n",
       "    }\n",
       "\n",
       "    .dataframe tbody tr th {\n",
       "        vertical-align: top;\n",
       "    }\n",
       "\n",
       "    .dataframe thead th {\n",
       "        text-align: right;\n",
       "    }\n",
       "</style>\n",
       "<table border=\"1\" class=\"dataframe\">\n",
       "  <thead>\n",
       "    <tr style=\"text-align: right;\">\n",
       "      <th></th>\n",
       "      <th>Order ID</th>\n",
       "      <th>Date</th>\n",
       "      <th>Product</th>\n",
       "      <th>Price</th>\n",
       "      <th>Quantity</th>\n",
       "      <th>Purchase Type</th>\n",
       "      <th>Payment Method</th>\n",
       "      <th>Manager</th>\n",
       "      <th>City</th>\n",
       "    </tr>\n",
       "  </thead>\n",
       "  <tbody>\n",
       "    <tr>\n",
       "      <th>0</th>\n",
       "      <td>10452</td>\n",
       "      <td>2022-11-07 00:00:00</td>\n",
       "      <td>Fries</td>\n",
       "      <td>3.49</td>\n",
       "      <td>573.065903</td>\n",
       "      <td>Online</td>\n",
       "      <td>Gift Card</td>\n",
       "      <td>Tom      Jackson</td>\n",
       "      <td>London</td>\n",
       "    </tr>\n",
       "    <tr>\n",
       "      <th>1</th>\n",
       "      <td>10453</td>\n",
       "      <td>2022-11-07 00:00:00</td>\n",
       "      <td>Beverages</td>\n",
       "      <td>2.95</td>\n",
       "      <td>745.762712</td>\n",
       "      <td>Online</td>\n",
       "      <td>Gift Card</td>\n",
       "      <td>Pablo Perez</td>\n",
       "      <td>Madrid</td>\n",
       "    </tr>\n",
       "    <tr>\n",
       "      <th>2</th>\n",
       "      <td>10454</td>\n",
       "      <td>2022-11-07 00:00:00</td>\n",
       "      <td>Sides &amp; Other</td>\n",
       "      <td>4.99</td>\n",
       "      <td>200.400802</td>\n",
       "      <td>In-store</td>\n",
       "      <td>Gift Card</td>\n",
       "      <td>Joao    Silva</td>\n",
       "      <td>Lisbon</td>\n",
       "    </tr>\n",
       "    <tr>\n",
       "      <th>3</th>\n",
       "      <td>10455</td>\n",
       "      <td>2022-11-08 00:00:00</td>\n",
       "      <td>Burgers</td>\n",
       "      <td>12.99</td>\n",
       "      <td>569.668976</td>\n",
       "      <td>In-store</td>\n",
       "      <td>Credit Card</td>\n",
       "      <td>Walter Muller</td>\n",
       "      <td>Berlin</td>\n",
       "    </tr>\n",
       "    <tr>\n",
       "      <th>4</th>\n",
       "      <td>10456</td>\n",
       "      <td>2022-11-08 00:00:00</td>\n",
       "      <td>Chicken Sandwiches</td>\n",
       "      <td>9.95</td>\n",
       "      <td>201.005025</td>\n",
       "      <td>In-store</td>\n",
       "      <td>Credit Card</td>\n",
       "      <td>Walter Muller</td>\n",
       "      <td>Berlin</td>\n",
       "    </tr>\n",
       "    <tr>\n",
       "      <th>...</th>\n",
       "      <td>...</td>\n",
       "      <td>...</td>\n",
       "      <td>...</td>\n",
       "      <td>...</td>\n",
       "      <td>...</td>\n",
       "      <td>...</td>\n",
       "      <td>...</td>\n",
       "      <td>...</td>\n",
       "      <td>...</td>\n",
       "    </tr>\n",
       "    <tr>\n",
       "      <th>249</th>\n",
       "      <td>10709</td>\n",
       "      <td>2022-12-28 00:00:00</td>\n",
       "      <td>Sides &amp; Other</td>\n",
       "      <td>4.99</td>\n",
       "      <td>200.400802</td>\n",
       "      <td>Drive-thru</td>\n",
       "      <td>Gift Card</td>\n",
       "      <td>Walter Muller</td>\n",
       "      <td>Berlin</td>\n",
       "    </tr>\n",
       "    <tr>\n",
       "      <th>250</th>\n",
       "      <td>10710</td>\n",
       "      <td>2022-12-29 00:00:00</td>\n",
       "      <td>Burgers</td>\n",
       "      <td>12.99</td>\n",
       "      <td>754.426482</td>\n",
       "      <td>Drive-thru</td>\n",
       "      <td>Gift Card</td>\n",
       "      <td>Walter Muller</td>\n",
       "      <td>Berlin</td>\n",
       "    </tr>\n",
       "    <tr>\n",
       "      <th>251</th>\n",
       "      <td>10711</td>\n",
       "      <td>2022-12-29 00:00:00</td>\n",
       "      <td>Chicken Sandwiches</td>\n",
       "      <td>9.95</td>\n",
       "      <td>281.407035</td>\n",
       "      <td>Drive-thru</td>\n",
       "      <td>Gift Card</td>\n",
       "      <td>Walter Muller</td>\n",
       "      <td>Berlin</td>\n",
       "    </tr>\n",
       "    <tr>\n",
       "      <th>252</th>\n",
       "      <td>10712</td>\n",
       "      <td>2022-12-29 00:00:00</td>\n",
       "      <td>Fries</td>\n",
       "      <td>3.49</td>\n",
       "      <td>630.372493</td>\n",
       "      <td>Drive-thru</td>\n",
       "      <td>Gift Card</td>\n",
       "      <td>Walter Muller</td>\n",
       "      <td>Berlin</td>\n",
       "    </tr>\n",
       "    <tr>\n",
       "      <th>253</th>\n",
       "      <td>10713</td>\n",
       "      <td>2022-12-29 00:00:00</td>\n",
       "      <td>Beverages</td>\n",
       "      <td>2.95</td>\n",
       "      <td>677.966102</td>\n",
       "      <td>Drive-thru</td>\n",
       "      <td>Gift Card</td>\n",
       "      <td>Walter Muller</td>\n",
       "      <td>Berlin</td>\n",
       "    </tr>\n",
       "  </tbody>\n",
       "</table>\n",
       "<p>254 rows × 9 columns</p>\n",
       "</div>"
      ],
      "text/plain": [
       "0   Order ID                 Date             Product  Price    Quantity  \\\n",
       "0      10452  2022-11-07 00:00:00               Fries   3.49  573.065903   \n",
       "1      10453  2022-11-07 00:00:00           Beverages   2.95  745.762712   \n",
       "2      10454  2022-11-07 00:00:00       Sides & Other   4.99  200.400802   \n",
       "3      10455  2022-11-08 00:00:00             Burgers  12.99  569.668976   \n",
       "4      10456  2022-11-08 00:00:00  Chicken Sandwiches   9.95  201.005025   \n",
       "..       ...                  ...                 ...    ...         ...   \n",
       "249    10709  2022-12-28 00:00:00       Sides & Other   4.99  200.400802   \n",
       "250    10710  2022-12-29 00:00:00             Burgers  12.99  754.426482   \n",
       "251    10711  2022-12-29 00:00:00  Chicken Sandwiches   9.95  281.407035   \n",
       "252    10712  2022-12-29 00:00:00               Fries   3.49  630.372493   \n",
       "253    10713  2022-12-29 00:00:00           Beverages   2.95  677.966102   \n",
       "\n",
       "0   Purchase Type Payment Method             Manager    City  \n",
       "0         Online       Gift Card    Tom      Jackson  London  \n",
       "1         Online       Gift Card         Pablo Perez  Madrid  \n",
       "2       In-store       Gift Card       Joao    Silva  Lisbon  \n",
       "3       In-store     Credit Card       Walter Muller  Berlin  \n",
       "4       In-store     Credit Card       Walter Muller  Berlin  \n",
       "..            ...            ...                 ...     ...  \n",
       "249   Drive-thru       Gift Card       Walter Muller  Berlin  \n",
       "250   Drive-thru       Gift Card       Walter Muller  Berlin  \n",
       "251   Drive-thru       Gift Card       Walter Muller  Berlin  \n",
       "252   Drive-thru       Gift Card       Walter Muller  Berlin  \n",
       "253   Drive-thru       Gift Card       Walter Muller  Berlin  \n",
       "\n",
       "[254 rows x 9 columns]"
      ]
     },
     "execution_count": 25,
     "metadata": {},
     "output_type": "execute_result"
    }
   ],
   "source": [
    "#calling the dataset again to confirm if the column has dropped\n",
    "ppd"
   ]
  },
  {
   "cell_type": "code",
   "execution_count": 56,
   "id": "2f98f0a6-adaf-4523-a0d1-b767cbd9aae1",
   "metadata": {},
   "outputs": [
    {
     "data": {
      "text/plain": [
       "0\n",
       "Order ID          False\n",
       "Date              False\n",
       "Product           False\n",
       "Price             False\n",
       "Quantity          False\n",
       "Purchase Type     False\n",
       "Payment Method    False\n",
       "Manager           False\n",
       "City              False\n",
       "dtype: bool"
      ]
     },
     "execution_count": 56,
     "metadata": {},
     "output_type": "execute_result"
    }
   ],
   "source": [
    "#now we are sure there is no missing values or nulls in the dataset \n",
    "ppd.isna().any()"
   ]
  },
  {
   "cell_type": "code",
   "execution_count": 26,
   "id": "23f32832-a83f-45f6-bd6d-6e1015454bf4",
   "metadata": {},
   "outputs": [
    {
     "data": {
      "text/plain": [
       "np.False_"
      ]
     },
     "execution_count": 26,
     "metadata": {},
     "output_type": "execute_result"
    }
   ],
   "source": [
    "#checking for duplicates \n",
    "ppd.duplicated().any()"
   ]
  },
  {
   "cell_type": "code",
   "execution_count": 58,
   "id": "b15cfa47-2030-4159-a882-74b83dcf2014",
   "metadata": {},
   "outputs": [],
   "source": [
    "#remove spaces from column names\n",
    "ppd.columns = ppd.columns.str.strip()\n"
   ]
  },
  {
   "cell_type": "code",
   "execution_count": 27,
   "id": "c5a9f7c3-5722-4dc6-9025-69b34daf21fa",
   "metadata": {},
   "outputs": [
    {
     "data": {
      "text/plain": [
       "0\n",
       "Order ID          object\n",
       "Date              object\n",
       "Product           object\n",
       "Price             object\n",
       "Quantity          object\n",
       "Purchase Type     object\n",
       "Payment Method    object\n",
       "Manager           object\n",
       "City              object\n",
       "dtype: object"
      ]
     },
     "execution_count": 27,
     "metadata": {},
     "output_type": "execute_result"
    }
   ],
   "source": [
    "#confirming the data typ\n",
    "ppd.dtypes\n"
   ]
  },
  {
   "cell_type": "code",
   "execution_count": 28,
   "id": "87a6832a-d7bd-4204-964e-b02f5c290552",
   "metadata": {},
   "outputs": [
    {
     "data": {
      "text/plain": [
       "0\n",
       "Order ID                   int64\n",
       "Date              datetime64[ns]\n",
       "Product                 category\n",
       "Price                    float64\n",
       "Quantity                 float64\n",
       "Purchase Type           category\n",
       "Payment Method          category\n",
       "Manager                 category\n",
       "City                    category\n",
       "dtype: object"
      ]
     },
     "execution_count": 28,
     "metadata": {},
     "output_type": "execute_result"
    }
   ],
   "source": [
    "#i have to convert the data to its appropriate data type \n",
    "\n",
    "#Convert numeric columns\n",
    "ppd[\"Order ID\"] = pd.to_numeric(ppd[\"Order ID\"], errors=\"coerce\")\n",
    "ppd[\"Price\"] = pd.to_numeric(ppd[\"Price\"], errors=\"coerce\")\n",
    "ppd[\"Quantity\"] = pd.to_numeric(ppd[\"Quantity\"], errors=\"coerce\")\n",
    "\n",
    "#Convert Date\n",
    "ppd[\"Date\"] = pd.to_datetime(ppd[\"Date\"], errors=\"coerce\")\n",
    "\n",
    "#Convert categorical columns\n",
    "categorical_cols = [\"Product\", \"Purchase Type\", \"Payment Method\", \"Manager\", \"City\"]\n",
    "ppd[categorical_cols] = ppd[categorical_cols].astype(\"category\")\n",
    "\n",
    "#Check result by recalling the data type\n",
    "ppd.dtypes\n"
   ]
  },
  {
   "cell_type": "code",
   "execution_count": 29,
   "id": "d9c7a954-3e36-45bf-990c-85b7a36a7934",
   "metadata": {},
   "outputs": [
    {
     "name": "stdout",
     "output_type": "stream",
     "text": [
      "Payment Method\n",
      "Credit Card    120\n",
      "Cash            76\n",
      "Gift Card       58\n",
      "Name: count, dtype: int64\n"
     ]
    }
   ],
   "source": [
    "#what was the most preferred payment method \n",
    "# Count each payment method\n",
    "preferred_payment = ppd['Payment Method'].value_counts()\n",
    "\n",
    "print(preferred_payment)\n",
    "\n"
   ]
  },
  {
   "cell_type": "code",
   "execution_count": 30,
   "id": "b496074a-ef15-44f1-9f74-80357a50155c",
   "metadata": {},
   "outputs": [
    {
     "name": "stdout",
     "output_type": "stream",
     "text": [
      "Most preferred payment method:  Credit Card\n"
     ]
    }
   ],
   "source": [
    "# Display the most preferred one\n",
    "most_preferred = preferred_payment.idxmax()\n",
    "\n",
    "\n",
    "print(\"Most preferred payment method:\", most_preferred)"
   ]
  },
  {
   "cell_type": "code",
   "execution_count": 31,
   "id": "4f17ed87-c712-461b-81ae-68bbafc04b2b",
   "metadata": {},
   "outputs": [
    {
     "name": "stdout",
     "output_type": "stream",
     "text": [
      "Number of transactions: 120\n"
     ]
    }
   ],
   "source": [
    "count = preferred_payment.max()\n",
    "\n",
    "print(\"Number of transactions:\", count)"
   ]
  },
  {
   "cell_type": "code",
   "execution_count": 32,
   "id": "ca4f5eb6-2f55-4172-9b1b-8bdaa4432ff6",
   "metadata": {},
   "outputs": [
    {
     "name": "stdout",
     "output_type": "stream",
     "text": [
      "Total Revenue= 769513.6945472348\n"
     ]
    }
   ],
   "source": [
    "#most selling product by revenue and quantity\n",
    "\n",
    "#lets first of all create a REVENUE column \n",
    "ppd['Revenue'] = ppd['Price'] * ppd['Quantity']\n",
    "\n",
    "print('Total Revenue=', ppd['Revenue'].sum())"
   ]
  },
  {
   "cell_type": "code",
   "execution_count": 38,
   "id": "6aa429ca-5e98-49a6-8af5-2311ed79bfbe",
   "metadata": {},
   "outputs": [
    {
     "name": "stdout",
     "output_type": "stream",
     "text": [
      "Most selling product by Revenue:\n",
      "Product\n",
      "Burgers    377000.0\n",
      "Name: Revenue, dtype: float64\n"
     ]
    }
   ],
   "source": [
    "#most selling product by revenue \n",
    "Top_Product_Revenue = ppd.groupby(\"Product\")[\"Revenue\"].sum().sort_values(ascending=False)\n",
    "\n",
    "print(\"Most selling product by Revenue:\")\n",
    "print(Top_Product_Revenue.head(1))\n"
   ]
  },
  {
   "cell_type": "code",
   "execution_count": 39,
   "id": "93d5f78e-6f55-49f5-a44d-dc87e9335a90",
   "metadata": {},
   "outputs": [
    {
     "name": "stdout",
     "output_type": "stream",
     "text": [
      "Most selling product by Quantity:\n",
      "Product\n",
      "Beverages    34983.050847\n",
      "Name: Quantity, dtype: float64\n"
     ]
    }
   ],
   "source": [
    "#most selling product by quantity \n",
    "Top_Product_Quantity = ppd.groupby(\"Product\")[\"Quantity\"].sum().sort_values(ascending=False)\n",
    "\n",
    "print(\"Most selling product by Quantity:\")\n",
    "print(Top_Product_Quantity.head(1))  \n"
   ]
  },
  {
   "cell_type": "code",
   "execution_count": 40,
   "id": "3a0ba444-be29-4867-8aa2-f2b26fb04bcc",
   "metadata": {},
   "outputs": [
    {
     "name": "stdout",
     "output_type": "stream",
     "text": [
      "City with maximum revenue:\n",
      "City\n",
      "Lisbon    241713.694547\n",
      "Name: Revenue, dtype: float64\n"
     ]
    }
   ],
   "source": [
    "#city with the maximum revenue \n",
    "Top_City_Revenue = ppd.groupby(\"City\")[\"Revenue\"].sum().sort_values(ascending=False)\n",
    "\n",
    "print(\"City with maximum revenue:\")\n",
    "print(Top_City_Revenue.head(1))\n"
   ]
  },
  {
   "cell_type": "code",
   "execution_count": 41,
   "id": "d0b0d416-327c-4723-8c1c-42c96548f341",
   "metadata": {},
   "outputs": [
    {
     "name": "stdout",
     "output_type": "stream",
     "text": [
      "Manager with maximum revenue:\n",
      "Manager\n",
      "Joao Silva    225074.498567\n",
      "Name: Revenue, dtype: float64\n"
     ]
    }
   ],
   "source": [
    "#Manager with the maximum revenue \n",
    "Top_Manager_Revenue = ppd.groupby(\"Manager\")[\"Revenue\"].sum().sort_values(ascending=False)\n",
    "\n",
    "print(\"Manager with maximum revenue:\")\n",
    "print(Top_Manager_Revenue.head(1))   \n"
   ]
  },
  {
   "cell_type": "code",
   "execution_count": 43,
   "id": "a45487e2-d723-4e80-ad81-b9881c23216c",
   "metadata": {},
   "outputs": [
    {
     "name": "stdout",
     "output_type": "stream",
     "text": [
      "Average Revenue = 3029.5814745954126\n"
     ]
    }
   ],
   "source": [
    "#average revenue \n",
    "Average_Revenue = ppd[\"Revenue\"].mean()\n",
    "\n",
    "print(\"Average Revenue =\", Average_Revenue)\n"
   ]
  },
  {
   "cell_type": "code",
   "execution_count": 46,
   "id": "a2ef10fc-9e3d-4dba-b2c8-49ca6d3891f4",
   "metadata": {},
   "outputs": [
    {
     "name": "stdout",
     "output_type": "stream",
     "text": [
      "Average Month November and December Date\n",
      "11    2939.059244\n",
      "12    3102.127660\n",
      "Name: Revenue, dtype: float64\n"
     ]
    }
   ],
   "source": [
    "#average revenue of November and December\n",
    "#since we all know November as (11) and December as(12). then;\n",
    " \n",
    "Avg_Month = ppd.groupby(ppd[\"Date\"].dt.month)[\"Revenue\"].mean()\n",
    "\n",
    "print(\"Average Month November and December\", Avg_Month.loc[[11, 12]])\n",
    "\n"
   ]
  },
  {
   "cell_type": "code",
   "execution_count": 50,
   "id": "80a848bf-0dd5-459c-aee6-66e624b40221",
   "metadata": {},
   "outputs": [
    {
     "name": "stdout",
     "output_type": "stream",
     "text": [
      "Standard Deviation of Revenue: 2420.1241927718024\n",
      "Standard Deviation of Quantity: 214.88955129185305\n"
     ]
    }
   ],
   "source": [
    "#standard deviations of revenue and quantity \n",
    "Standard_Deviation = ppd[[\"Revenue\", \"Quantity\"]].std()\n",
    "\n",
    "# Print them nicely\n",
    "print(\"Standard Deviation of Revenue:\", Standard_Deviation[\"Revenue\"])\n",
    "print(\"Standard Deviation of Quantity:\", Standard_Deviation[\"Quantity\"])\n"
   ]
  },
  {
   "cell_type": "code",
   "execution_count": 51,
   "id": "b987c9f9-9351-4d06-90a4-ede7859008e0",
   "metadata": {},
   "outputs": [
    {
     "name": "stdout",
     "output_type": "stream",
     "text": [
      "Variance of Revenue: 5857001.108439369\n",
      "Variance of Quantity: 46177.51925441394\n"
     ]
    }
   ],
   "source": [
    "#variances of revenue and quantity\n",
    "Variance = ppd[[\"Revenue\", \"Quantity\"]].var()\n",
    "\n",
    "print(\"Variance of Revenue:\", Variance[\"Revenue\"])\n",
    "print(\"Variance of Quantity:\", Variance[\"Quantity\"])\n"
   ]
  },
  {
   "cell_type": "code",
   "execution_count": 53,
   "id": "ccf2685a-432a-4767-b0d6-ccda50db011c",
   "metadata": {},
   "outputs": [
    {
     "name": "stdout",
     "output_type": "stream",
     "text": [
      "Date\n",
      "2022-11-07     5200.0\n",
      "2022-11-08    12400.0\n",
      "2022-11-09    14200.0\n",
      "2022-11-10    13200.0\n",
      "2022-11-11    14400.0\n",
      "Name: Revenue, dtype: float64\n"
     ]
    }
   ],
   "source": [
    "#was the revenue increasing or decreasing over time?\n",
    "\n",
    "# Group revenue by date\n",
    "revenue_trend = ppd.groupby(\"Date\")[\"Revenue\"].sum()\n",
    "\n",
    "print(revenue_trend.head())\n"
   ]
  },
  {
   "cell_type": "code",
   "execution_count": 56,
   "id": "c2fbdabf-a7b5-47f0-8f11-5edcdc71a054",
   "metadata": {},
   "outputs": [
    {
     "data": {
      "image/png": "[encoded data removed]",
      "text/plain": [
       "<Figure size 1000x500 with 1 Axes>"
      ]
     },
     "metadata": {},
     "output_type": "display_data"
    }
   ],
   "source": [
    "plt.figure(figsize=(10,5))\n",
    "plt.plot(revenue_trend.index, revenue_trend.values)\n",
    "plt.title(\"Revenue Trend Over Time\")\n",
    "plt.xlabel(\"Date\")\n",
    "plt.ylabel(\"Total Revenue\")\n",
    "plt.xticks(rotation=45)\n",
    "plt.grid(True)\n",
    "plt.show()"
   ]
  },
  {
   "cell_type": "code",
   "execution_count": 58,
   "id": "9267ec8e-77c2-413e-91cf-b1bd3e841d5c",
   "metadata": {},
   "outputs": [
    {
     "name": "stdout",
     "output_type": "stream",
     "text": [
      "              Product  Average_Quantity  Average_Revenue\n",
      "0           Beverages        699.661017      2064.000000\n",
      "1             Burgers        558.121632      7250.000000\n",
      "2  Chicken Sandwiches        214.147661      2204.599923\n",
      "3               Fries        628.125176      2464.205854\n",
      "4       Sides & Other        200.400802      1000.000000\n"
     ]
    }
   ],
   "source": [
    "#average quantity sold and revenue for each product \n",
    "\n",
    "Avg_rev = ppd.groupby(\"Product\").agg(\n",
    "    Average_Quantity=(\"Quantity\", \"mean\"),\n",
    "    Average_Revenue=(\"Revenue\", \"mean\")\n",
    ").reset_index()\n",
    "\n",
    "print(Avg_rev)\n"
   ]
  },
  {
   "cell_type": "code",
   "execution_count": 60,
   "id": "0e4c5241-fe58-424f-b5f1-1adb6b62ad6e",
   "metadata": {},
   "outputs": [
    {
     "name": "stdout",
     "output_type": "stream",
     "text": [
      "Total number of orders= 254\n"
     ]
    }
   ],
   "source": [
    "#total sale made \n",
    "total_sales = ppd[\"Order ID\"].nunique()\n",
    "\n",
    "print(\"Total number of orders=\", total_sales)\n"
   ]
  },
  {
   "cell_type": "code",
   "execution_count": null,
   "id": "0e794998-04a0-4dcf-b49d-fc08c19a6f89",
   "metadata": {},
   "outputs": [],
   "source": []
  },
  {
   "cell_type": "code",
   "execution_count": null,
   "id": "81d93aef-7969-4396-bc45-c1e5479cf720",
   "metadata": {},
   "outputs": [],
   "source": []
  },
  {
   "cell_type": "code",
   "execution_count": null,
   "id": "cf8f18eb-3ac5-4f3c-9277-3459c4a282f1",
   "metadata": {},
   "outputs": [],
   "source": []
  },
  {
   "cell_type": "code",
   "execution_count": null,
   "id": "95eaf529-9414-4e73-bdb8-e28173739a6c",
   "metadata": {},
   "outputs": [],
   "source": []
  },
  {
   "cell_type": "code",
   "execution_count": null,
   "id": "1b132df8-6182-4591-9811-87fc9d7496bb",
   "metadata": {},
   "outputs": [],
   "source": []
  },
  {
   "cell_type": "code",
   "execution_count": null,
   "id": "9283388d-6e9b-4ea6-95f8-a10d42535192",
   "metadata": {},
   "outputs": [],
   "source": []
  },
  {
   "cell_type": "code",
   "execution_count": null,
   "id": "6357e3ac-43a5-4042-abd7-32d09e7aeab7",
   "metadata": {},
   "outputs": [],
   "source": []
  },
  {
   "cell_type": "code",
   "execution_count": null,
   "id": "8be8abd5-ea20-4e3d-8f2f-1c3ccc3a1ab0",
   "metadata": {},
   "outputs": [],
   "source": []
  },
  {
   "cell_type": "code",
   "execution_count": null,
   "id": "4f8c50db-f123-44c8-bf8f-18ae35a59f27",
   "metadata": {},
   "outputs": [],
   "source": []
  },
  {
   "cell_type": "code",
   "execution_count": null,
   "id": "db1f76b8-8929-41a6-a239-6862a06ebf0f",
   "metadata": {},
   "outputs": [],
   "source": []
  },
  {
   "cell_type": "code",
   "execution_count": null,
   "id": "1b5c20bd-fbca-4eb9-a825-88b36cf268bf",
   "metadata": {},
   "outputs": [],
   "source": []
  },
  {
   "cell_type": "code",
   "execution_count": null,
   "id": "fa98b9d7-8167-4c59-b349-ab6416347db4",
   "metadata": {},
   "outputs": [],
   "source": []
  }
 ],
 "metadata": {
  "kernelspec": {
   "display_name": "Python 3 (ipykernel)",
   "language": "python",
   "name": "python3"
  },
  "language_info": {
   "codemirror_mode": {
    "name": "ipython",
    "version": 3
   },
   "file_extension": ".py",
   "mimetype": "text/x-python",
   "name": "python",
   "nbconvert_exporter": "python",
   "pygments_lexer": "ipython3",
   "version": "3.13.5"
  }
 },
 "nbformat": 4,
 "nbformat_minor": 5
}
